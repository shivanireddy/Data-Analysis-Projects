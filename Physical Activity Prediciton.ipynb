{
 "cells": [
  {
   "cell_type": "code",
   "execution_count": 3,
   "metadata": {},
   "outputs": [],
   "source": [
    "import numpy as np\n",
    "import pandas as pd\n",
    "\n",
    "import matplotlib.pyplot as plt\n",
    "import seaborn as sns\n",
    "\n",
    "from sklearn.model_selection import train_test_split\n",
    "from sklearn.preprocessing import StandardScaler\n",
    "\n",
    "from sklearn.linear_model import LogisticRegression\n",
    "\n",
    "from sklearn.metrics import confusion_matrix,classification_report\n",
    "\n",
    "import warnings\n",
    "warnings.filterwarnings(action='ignore')"
   ]
  },
  {
   "cell_type": "code",
   "execution_count": null,
   "metadata": {},
   "outputs": [],
   "source": [
    "data = pd.read_csv('mhealth_raw_data.csv')\n",
    "data.head()"
   ]
  },
  {
   "cell_type": "code",
   "execution_count": 5,
   "metadata": {},
   "outputs": [
    {
     "name": "stdout",
     "output_type": "stream",
     "text": [
      "<class 'pandas.core.frame.DataFrame'>\n",
      "RangeIndex: 1215745 entries, 0 to 1215744\n",
      "Data columns (total 14 columns):\n",
      " #   Column    Non-Null Count    Dtype  \n",
      "---  ------    --------------    -----  \n",
      " 0   alx       1215745 non-null  float64\n",
      " 1   aly       1215745 non-null  float64\n",
      " 2   alz       1215745 non-null  float64\n",
      " 3   glx       1215745 non-null  float64\n",
      " 4   gly       1215745 non-null  float64\n",
      " 5   glz       1215745 non-null  float64\n",
      " 6   arx       1215745 non-null  float64\n",
      " 7   ary       1215745 non-null  float64\n",
      " 8   arz       1215745 non-null  float64\n",
      " 9   grx       1215745 non-null  float64\n",
      " 10  gry       1215745 non-null  float64\n",
      " 11  grz       1215745 non-null  float64\n",
      " 12  Activity  1215745 non-null  int64  \n",
      " 13  subject   1215745 non-null  object \n",
      "dtypes: float64(12), int64(1), object(1)\n",
      "memory usage: 129.9+ MB\n"
     ]
    }
   ],
   "source": [
    "data.info()"
   ]
  },
  {
   "cell_type": "markdown",
   "metadata": {},
   "source": [
    "# Preprocessing"
   ]
  },
  {
   "cell_type": "code",
   "execution_count": 12,
   "metadata": {},
   "outputs": [],
   "source": [
    "def preprocess_inputs(df):\n",
    "    df = df.copy()\n",
    "    \n",
    "    # Drop subject column\n",
    "    df = df.drop('subject', axis=1)\n",
    "    \n",
    "    # Sample 2000 examples from each class\n",
    "    samples = []\n",
    "    for category in df['Activity'].unique():\n",
    "        category_slice = df.query(\"Activity == @category\")\n",
    "        samples.append(category_slice.sample(2000, random_state=1))\n",
    "    df = pd.concat(samples, axis=0).sample(frac=1.0, random_state=1).reset_index(drop=True)\n",
    "    \n",
    "    # Split df into X and y\n",
    "    y = df['Activity']\n",
    "    X = df.drop('Activity', axis=1)\n",
    "    \n",
    "    # Train-test split\n",
    "    X_train, X_test, y_train, y_test = train_test_split(X, y, train_size=0.7, shuffle=True, random_state=1)\n",
    "    \n",
    "    # Scale X\n",
    "    scaler = StandardScaler()\n",
    "    scaler.fit(X_train)\n",
    "    X_train = pd.DataFrame(scaler.transform(X_train), index=X_train.index, columns=X_train.columns)\n",
    "    X_test = pd.DataFrame(scaler.transform(X_test), index=X_test.index, columns=X_test.columns)\n",
    "    \n",
    "    return X_train, X_test, y_train, y_test"
   ]
  },
  {
   "cell_type": "code",
   "execution_count": 13,
   "metadata": {},
   "outputs": [],
   "source": [
    "X_train, X_test, y_train, y_test = preprocess_inputs(data)"
   ]
  },
  {
   "cell_type": "code",
   "execution_count": 14,
   "metadata": {},
   "outputs": [
    {
     "data": {
      "text/html": [
       "<div>\n",
       "<style scoped>\n",
       "    .dataframe tbody tr th:only-of-type {\n",
       "        vertical-align: middle;\n",
       "    }\n",
       "\n",
       "    .dataframe tbody tr th {\n",
       "        vertical-align: top;\n",
       "    }\n",
       "\n",
       "    .dataframe thead th {\n",
       "        text-align: right;\n",
       "    }\n",
       "</style>\n",
       "<table border=\"1\" class=\"dataframe\">\n",
       "  <thead>\n",
       "    <tr style=\"text-align: right;\">\n",
       "      <th></th>\n",
       "      <th>alx</th>\n",
       "      <th>aly</th>\n",
       "      <th>alz</th>\n",
       "      <th>glx</th>\n",
       "      <th>gly</th>\n",
       "      <th>glz</th>\n",
       "      <th>arx</th>\n",
       "      <th>ary</th>\n",
       "      <th>arz</th>\n",
       "      <th>grx</th>\n",
       "      <th>gry</th>\n",
       "      <th>grz</th>\n",
       "    </tr>\n",
       "  </thead>\n",
       "  <tbody>\n",
       "    <tr>\n",
       "      <th>11053</th>\n",
       "      <td>0.187104</td>\n",
       "      <td>0.006277</td>\n",
       "      <td>-0.228013</td>\n",
       "      <td>-1.505719</td>\n",
       "      <td>-0.704517</td>\n",
       "      <td>0.614794</td>\n",
       "      <td>0.429857</td>\n",
       "      <td>-0.326943</td>\n",
       "      <td>-0.339706</td>\n",
       "      <td>-1.321750</td>\n",
       "      <td>-0.160711</td>\n",
       "      <td>-1.172536</td>\n",
       "    </tr>\n",
       "    <tr>\n",
       "      <th>12600</th>\n",
       "      <td>0.012679</td>\n",
       "      <td>-0.068988</td>\n",
       "      <td>-0.629651</td>\n",
       "      <td>0.902903</td>\n",
       "      <td>1.395136</td>\n",
       "      <td>-0.902048</td>\n",
       "      <td>0.000880</td>\n",
       "      <td>-1.372901</td>\n",
       "      <td>0.030727</td>\n",
       "      <td>1.367656</td>\n",
       "      <td>-0.637630</td>\n",
       "      <td>0.102802</td>\n",
       "    </tr>\n",
       "    <tr>\n",
       "      <th>7364</th>\n",
       "      <td>-0.738023</td>\n",
       "      <td>-0.330316</td>\n",
       "      <td>-0.073460</td>\n",
       "      <td>-0.121955</td>\n",
       "      <td>-0.650918</td>\n",
       "      <td>0.948702</td>\n",
       "      <td>1.092318</td>\n",
       "      <td>-0.166351</td>\n",
       "      <td>0.936759</td>\n",
       "      <td>1.600883</td>\n",
       "      <td>0.154742</td>\n",
       "      <td>1.141817</td>\n",
       "    </tr>\n",
       "    <tr>\n",
       "      <th>4806</th>\n",
       "      <td>-0.308225</td>\n",
       "      <td>-0.369919</td>\n",
       "      <td>0.017368</td>\n",
       "      <td>1.034512</td>\n",
       "      <td>-0.440953</td>\n",
       "      <td>0.579264</td>\n",
       "      <td>-0.098113</td>\n",
       "      <td>-0.486392</td>\n",
       "      <td>-0.255824</td>\n",
       "      <td>-0.811564</td>\n",
       "      <td>-0.434833</td>\n",
       "      <td>0.514347</td>\n",
       "    </tr>\n",
       "    <tr>\n",
       "      <th>19271</th>\n",
       "      <td>-0.037292</td>\n",
       "      <td>-0.133830</td>\n",
       "      <td>-0.040404</td>\n",
       "      <td>1.273764</td>\n",
       "      <td>-0.311398</td>\n",
       "      <td>0.245348</td>\n",
       "      <td>0.103261</td>\n",
       "      <td>0.076830</td>\n",
       "      <td>-0.345337</td>\n",
       "      <td>-0.053581</td>\n",
       "      <td>-0.675176</td>\n",
       "      <td>0.836221</td>\n",
       "    </tr>\n",
       "    <tr>\n",
       "      <th>...</th>\n",
       "      <td>...</td>\n",
       "      <td>...</td>\n",
       "      <td>...</td>\n",
       "      <td>...</td>\n",
       "      <td>...</td>\n",
       "      <td>...</td>\n",
       "      <td>...</td>\n",
       "      <td>...</td>\n",
       "      <td>...</td>\n",
       "      <td>...</td>\n",
       "      <td>...</td>\n",
       "      <td>...</td>\n",
       "    </tr>\n",
       "    <tr>\n",
       "      <th>10955</th>\n",
       "      <td>-0.187578</td>\n",
       "      <td>-0.149895</td>\n",
       "      <td>0.305091</td>\n",
       "      <td>-1.398054</td>\n",
       "      <td>-0.494552</td>\n",
       "      <td>0.859905</td>\n",
       "      <td>0.126550</td>\n",
       "      <td>-0.549477</td>\n",
       "      <td>-0.349606</td>\n",
       "      <td>-1.077594</td>\n",
       "      <td>-0.551255</td>\n",
       "      <td>-1.017697</td>\n",
       "    </tr>\n",
       "    <tr>\n",
       "      <th>17289</th>\n",
       "      <td>-0.594098</td>\n",
       "      <td>-0.070707</td>\n",
       "      <td>0.426514</td>\n",
       "      <td>-1.629332</td>\n",
       "      <td>-0.414142</td>\n",
       "      <td>-0.259076</td>\n",
       "      <td>0.567035</td>\n",
       "      <td>-0.604562</td>\n",
       "      <td>-0.148987</td>\n",
       "      <td>0.073970</td>\n",
       "      <td>-0.983113</td>\n",
       "      <td>-1.628888</td>\n",
       "    </tr>\n",
       "    <tr>\n",
       "      <th>5192</th>\n",
       "      <td>0.155570</td>\n",
       "      <td>1.820917</td>\n",
       "      <td>1.579206</td>\n",
       "      <td>0.771315</td>\n",
       "      <td>3.610939</td>\n",
       "      <td>0.355470</td>\n",
       "      <td>-1.006433</td>\n",
       "      <td>0.850732</td>\n",
       "      <td>-0.137042</td>\n",
       "      <td>-0.436215</td>\n",
       "      <td>2.291497</td>\n",
       "      <td>0.620277</td>\n",
       "    </tr>\n",
       "    <tr>\n",
       "      <th>12172</th>\n",
       "      <td>-0.042024</td>\n",
       "      <td>0.086213</td>\n",
       "      <td>-0.642605</td>\n",
       "      <td>1.098307</td>\n",
       "      <td>-0.458811</td>\n",
       "      <td>-0.081463</td>\n",
       "      <td>1.001877</td>\n",
       "      <td>0.126247</td>\n",
       "      <td>1.179228</td>\n",
       "      <td>2.001750</td>\n",
       "      <td>0.342507</td>\n",
       "      <td>0.824008</td>\n",
       "    </tr>\n",
       "    <tr>\n",
       "      <th>235</th>\n",
       "      <td>0.432583</td>\n",
       "      <td>0.429344</td>\n",
       "      <td>1.077212</td>\n",
       "      <td>1.178072</td>\n",
       "      <td>-0.364996</td>\n",
       "      <td>0.202721</td>\n",
       "      <td>-0.878576</td>\n",
       "      <td>0.670133</td>\n",
       "      <td>0.451274</td>\n",
       "      <td>-0.479947</td>\n",
       "      <td>-0.367239</td>\n",
       "      <td>0.465438</td>\n",
       "    </tr>\n",
       "  </tbody>\n",
       "</table>\n",
       "<p>18200 rows × 12 columns</p>\n",
       "</div>"
      ],
      "text/plain": [
       "            alx       aly       alz       glx       gly       glz       arx  \\\n",
       "11053  0.187104  0.006277 -0.228013 -1.505719 -0.704517  0.614794  0.429857   \n",
       "12600  0.012679 -0.068988 -0.629651  0.902903  1.395136 -0.902048  0.000880   \n",
       "7364  -0.738023 -0.330316 -0.073460 -0.121955 -0.650918  0.948702  1.092318   \n",
       "4806  -0.308225 -0.369919  0.017368  1.034512 -0.440953  0.579264 -0.098113   \n",
       "19271 -0.037292 -0.133830 -0.040404  1.273764 -0.311398  0.245348  0.103261   \n",
       "...         ...       ...       ...       ...       ...       ...       ...   \n",
       "10955 -0.187578 -0.149895  0.305091 -1.398054 -0.494552  0.859905  0.126550   \n",
       "17289 -0.594098 -0.070707  0.426514 -1.629332 -0.414142 -0.259076  0.567035   \n",
       "5192   0.155570  1.820917  1.579206  0.771315  3.610939  0.355470 -1.006433   \n",
       "12172 -0.042024  0.086213 -0.642605  1.098307 -0.458811 -0.081463  1.001877   \n",
       "235    0.432583  0.429344  1.077212  1.178072 -0.364996  0.202721 -0.878576   \n",
       "\n",
       "            ary       arz       grx       gry       grz  \n",
       "11053 -0.326943 -0.339706 -1.321750 -0.160711 -1.172536  \n",
       "12600 -1.372901  0.030727  1.367656 -0.637630  0.102802  \n",
       "7364  -0.166351  0.936759  1.600883  0.154742  1.141817  \n",
       "4806  -0.486392 -0.255824 -0.811564 -0.434833  0.514347  \n",
       "19271  0.076830 -0.345337 -0.053581 -0.675176  0.836221  \n",
       "...         ...       ...       ...       ...       ...  \n",
       "10955 -0.549477 -0.349606 -1.077594 -0.551255 -1.017697  \n",
       "17289 -0.604562 -0.148987  0.073970 -0.983113 -1.628888  \n",
       "5192   0.850732 -0.137042 -0.436215  2.291497  0.620277  \n",
       "12172  0.126247  1.179228  2.001750  0.342507  0.824008  \n",
       "235    0.670133  0.451274 -0.479947 -0.367239  0.465438  \n",
       "\n",
       "[18200 rows x 12 columns]"
      ]
     },
     "execution_count": 14,
     "metadata": {},
     "output_type": "execute_result"
    }
   ],
   "source": [
    "X_train"
   ]
  },
  {
   "cell_type": "code",
   "execution_count": 15,
   "metadata": {},
   "outputs": [
    {
     "data": {
      "text/plain": [
       "11    1434\n",
       "3     1424\n",
       "5     1418\n",
       "12    1417\n",
       "10    1406\n",
       "8     1405\n",
       "0     1398\n",
       "7     1392\n",
       "1     1388\n",
       "9     1383\n",
       "4     1382\n",
       "6     1377\n",
       "2     1376\n",
       "Name: Activity, dtype: int64"
      ]
     },
     "execution_count": 15,
     "metadata": {},
     "output_type": "execute_result"
    }
   ],
   "source": [
    "y_train.value_counts()"
   ]
  },
  {
   "cell_type": "markdown",
   "metadata": {},
   "source": [
    "# Training"
   ]
  },
  {
   "cell_type": "code",
   "execution_count": 19,
   "metadata": {},
   "outputs": [
    {
     "name": "stdout",
     "output_type": "stream",
     "text": [
      "Test Accuracy: 55.46%\n"
     ]
    }
   ],
   "source": [
    "model = LogisticRegression()\n",
    "model.fit(X_train,y_train)\n",
    "\n",
    "acc = model.score(X_test,y_test)\n",
    "print(\"Test Accuracy: {:.2f}%\".format(acc*100))"
   ]
  },
  {
   "cell_type": "markdown",
   "metadata": {},
   "source": [
    "# Confusion Matrix"
   ]
  },
  {
   "cell_type": "code",
   "execution_count": 20,
   "metadata": {},
   "outputs": [],
   "source": [
    "activity_labels = {\n",
    "    0: \"None\",\n",
    "    1: \"Standing still (1 min)\",\n",
    "    2: \"Sitting and relaxing (1 min)\",\n",
    "    3: \"Lying down (1 min)\",\n",
    "    4: \"Walking (1 min)\",\n",
    "    5: \"Climbing stairs (1 min)\",\n",
    "    6: \"Waist bends forward (20x)\",\n",
    "    7: \"Frontal elevation of arms (20x)\",\n",
    "    8: \"Knees bending (crouching) (20x)\",\n",
    "    9: \"Cycling (1 min)\",\n",
    "    10: \"Jogging (1 min)\",\n",
    "    11: \"Running (1 min)\",\n",
    "    12: \"Jump front & back (20x)\"\n",
    "}"
   ]
  },
  {
   "cell_type": "code",
   "execution_count": 21,
   "metadata": {},
   "outputs": [
    {
     "data": {
      "image/png": "[encoded data removed]",
      "text/plain": [
       "<Figure size 720x720 with 1 Axes>"
      ]
     },
     "metadata": {
      "needs_background": "light"
     },
     "output_type": "display_data"
    },
    {
     "name": "stdout",
     "output_type": "stream",
     "text": [
      "Classification Report: \n",
      "--------------------------------\n",
      "                                  precision    recall  f1-score   support\n",
      "\n",
      "                           None       0.15      0.05      0.07       602\n",
      "         Standing still (1 min)       0.51      0.64      0.57       612\n",
      "   Sitting and relaxing (1 min)       0.58      0.65      0.61       624\n",
      "             Lying down (1 min)       0.96      1.00      0.98       576\n",
      "                Walking (1 min)       0.47      0.48      0.47       618\n",
      "        Climbing stairs (1 min)       0.48      0.29      0.36       582\n",
      "      Waist bends forward (20x)       0.45      0.62      0.52       623\n",
      "Frontal elevation of arms (20x)       0.66      0.57      0.61       608\n",
      "Knees bending (crouching) (20x)       0.45      0.58      0.50       595\n",
      "                Cycling (1 min)       0.75      0.91      0.82       617\n",
      "                Jogging (1 min)       0.58      0.56      0.57       594\n",
      "                Running (1 min)       0.56      0.60      0.58       566\n",
      "        Jump front & back (20x)       0.33      0.27      0.29       583\n",
      "\n",
      "                       accuracy                           0.55      7800\n",
      "                      macro avg       0.53      0.55      0.54      7800\n",
      "                   weighted avg       0.53      0.55      0.54      7800\n",
      "\n"
     ]
    }
   ],
   "source": [
    "y_pred = model.predict(X_test)\n",
    "\n",
    "cm = confusion_matrix(y_test,y_pred,labels=list(range(13)))\n",
    "clr = classification_report(y_test,y_pred,labels=list(range(13)),target_names = activity_labels.values())\n",
    "plt.figure(figsize=(10,10))\n",
    "sns.heatmap(cm,annot=True,fmt='g',vmin=0,cmap='Blues',cbar=False)\n",
    "plt.xticks(ticks=np.arange(13)+0.5,labels=activity_labels.values(),rotation=90)\n",
    "plt.yticks(ticks=np.arange(13)+0.5,labels=activity_labels.values(),rotation=0)\n",
    "plt.xlabel(\"Predicted\")\n",
    "plt.ylabel(\"Actual\")\n",
    "plt.title(\"Confusion Matrix\")\n",
    "plt.show()\n",
    "print(\"Classification Report: \\n--------------------------------\\n\",clr)"
   ]
  },
  {
   "cell_type": "code",
   "execution_count": null,
   "metadata": {},
   "outputs": [],
   "source": []
  }
 ],
 "metadata": {
  "kernelspec": {
   "display_name": "Python 3",
   "language": "python",
   "name": "python3"
  },
  "language_info": {
   "codemirror_mode": {
    "name": "ipython",
    "version": 3
   },
   "file_extension": ".py",
   "mimetype": "text/x-python",
   "name": "python",
   "nbconvert_exporter": "python",
   "pygments_lexer": "ipython3",
   "version": "3.8.5"
  }
 },
 "nbformat": 4,
 "nbformat_minor": 4
}
